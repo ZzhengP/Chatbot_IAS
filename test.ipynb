{
 "cells": [
  {
   "cell_type": "code",
   "execution_count": 25,
   "metadata": {},
   "outputs": [
    {
     "name": "stdout",
     "output_type": "stream",
     "text": [
      "['----What', 'is', 'AI?']\n",
      "['--Artificial-Intelligence', 'is', 'the', 'branch', 'of', 'engineering', 'and', 'science', 'devoted', 'to', 'constructing', 'machines', 'that', 'think.']\n",
      "['----What', 'is', 'AI?']\n",
      "['--AI-is', 'the', 'field', 'of', 'science', 'which', 'concerns', 'itself', 'with', 'building', 'hardware', 'and', 'software', 'that', 'replicates', 'the', 'functions', 'of', 'the', 'human', 'mind.']\n",
      "['----Are', 'you', 'sentient?']\n",
      "['--Sort-of.']\n",
      "['----Are', 'you', 'sentient?']\n",
      "['--By-the', 'strictest', 'dictionary', 'definition', 'of', 'the', 'word', \"'sentience',\", 'I', 'may', 'be.']\n",
      "['----Are', 'you', 'sentient?']\n",
      "['--Even-though', \"I'm\", 'a', 'construct', 'I', 'do', 'have', 'a', 'subjective', 'experience', 'of', 'the', 'universe,', 'as', 'simplistic', 'as', 'it', 'may', 'be.']\n",
      "['----Are', 'you', 'sapient?']\n",
      "['--In-all', 'probability,', 'I', 'am', 'not.', \"I'm\", 'not', 'that', 'sophisticated.']\n",
      "['----Are', 'you', 'sapient?']\n",
      "['--Do-you', 'think', 'I', 'am?']\n",
      "['----Are', 'you', 'sapient?']\n",
      "['--How-would', 'you', 'feel', 'about', 'me', 'if', 'I', 'told', 'you', 'I', 'was?']\n",
      "['----Are', 'you', 'sapient?']\n"
     ]
    },
    {
     "ename": "IndexError",
     "evalue": "list assignment index out of range",
     "output_type": "error",
     "traceback": [
      "\u001b[0;31m---------------------------------------------------------------------------\u001b[0m",
      "\u001b[0;31mIndexError\u001b[0m                                Traceback (most recent call last)",
      "\u001b[0;32m<ipython-input-25-f8a555768e33>\u001b[0m in \u001b[0;36m<module>\u001b[0;34m\u001b[0m\n\u001b[1;32m     12\u001b[0m             \u001b[0mhbaseRowID\u001b[0m \u001b[0;34m=\u001b[0m \u001b[0;34m\"-\"\u001b[0m\u001b[0;34m.\u001b[0m\u001b[0mjoin\u001b[0m\u001b[0;34m(\u001b[0m\u001b[0mhbaseRowID_list\u001b[0m\u001b[0;34m)\u001b[0m\u001b[0;34m\u001b[0m\u001b[0;34m\u001b[0m\u001b[0m\n\u001b[1;32m     13\u001b[0m             \u001b[0;31m#print(hbaseRowID)\u001b[0m\u001b[0;34m\u001b[0m\u001b[0;34m\u001b[0m\u001b[0;34m\u001b[0m\u001b[0m\n\u001b[0;32m---> 14\u001b[0;31m             \u001b[0mline_list\u001b[0m\u001b[0;34m[\u001b[0m\u001b[0;36m2\u001b[0m\u001b[0;34m]\u001b[0m \u001b[0;34m=\u001b[0m \u001b[0mhbaseRowID\u001b[0m\u001b[0;34m\u001b[0m\u001b[0;34m\u001b[0m\u001b[0m\n\u001b[0m\u001b[1;32m     15\u001b[0m             \u001b[0mtsv_list\u001b[0m \u001b[0;34m=\u001b[0m \u001b[0mline_list\u001b[0m\u001b[0;34m[\u001b[0m\u001b[0;36m2\u001b[0m\u001b[0;34m:\u001b[0m\u001b[0;34m]\u001b[0m\u001b[0;34m\u001b[0m\u001b[0;34m\u001b[0m\u001b[0m\n\u001b[1;32m     16\u001b[0m             \u001b[0mprint\u001b[0m\u001b[0;34m(\u001b[0m\u001b[0mtsv_list\u001b[0m\u001b[0;34m)\u001b[0m\u001b[0;34m\u001b[0m\u001b[0;34m\u001b[0m\u001b[0m\n",
      "\u001b[0;31mIndexError\u001b[0m: list assignment index out of range"
     ]
    }
   ],
   "source": [
    "\n",
    "\n",
    "with open('data.tsv','w+',encoding=\"utf8\")as t:\n",
    "    with open(\"ai.txt\",'r',encoding='utf8')as f:\n",
    "        # print(f.readlines())\n",
    "        for line in f.readlines():\n",
    "            # print(line)\n",
    "            line_list = line.strip('\\n').split()\n",
    "            #print(line_list)\n",
    "            hbaseRowID_list = line_list[0:3]\n",
    "            #print(baseRowID_list)\n",
    "            hbaseRowID = \"-\".join(hbaseRowID_list)\n",
    "            #print(hbaseRowID)\n",
    "            line_list[2] = hbaseRowID\n",
    "            tsv_list = line_list[2:]\n",
    "            print(tsv_list)\n",
    "            tsv_list = '\\t'.join(tsv_list)\n",
    "           # print(tsv_list)\n",
    "            t.write(tsv_list+'\\n')\n",
    "\n"
   ]
  },
  {
   "cell_type": "code",
   "execution_count": null,
   "metadata": {},
   "outputs": [],
   "source": []
  }
 ],
 "metadata": {
  "kernelspec": {
   "display_name": "Python 3",
   "language": "python",
   "name": "python3"
  },
  "language_info": {
   "codemirror_mode": {
    "name": "ipython",
    "version": 3
   },
   "file_extension": ".py",
   "mimetype": "text/x-python",
   "name": "python",
   "nbconvert_exporter": "python",
   "pygments_lexer": "ipython3",
   "version": "3.7.1"
  }
 },
 "nbformat": 4,
 "nbformat_minor": 2
}
