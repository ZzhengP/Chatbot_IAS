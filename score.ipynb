{
 "cells": [
  {
   "cell_type": "markdown",
   "metadata": {},
   "source": [
    "Reprendre les codes de chatbot2methode.ipynb avec le dataset.tsv, écrire le programme qui fait l'évaluation"
   ]
  },
  {
   "cell_type": "code",
   "execution_count": 1,
   "metadata": {},
   "outputs": [],
   "source": [
    "import os, re\n",
    "import numpy as np\n",
    "import matplotlib.pyplot as plt\n",
    "import pandas as pd\n",
    "from mpl_toolkits import mplot3d\n",
    "\n",
    "import enchant\n",
    "from scipy.spatial import distance"
   ]
  },
  {
   "cell_type": "code",
   "execution_count": 2,
   "metadata": {},
   "outputs": [],
   "source": [
    "def sep_ponct(my_str, rule = r\"[.,?!]\"): #rule = r\"([.,?!])\" pour garder les ponctuations\n",
    "    \"\"\"separer les mots avec les char de ponctuation\"\"\" \n",
    "    #print(my_str)\n",
    "    sp0 = re.split(rule, my_str)\n",
    "    sp1 = [data.strip() for data in sp0]\n",
    "    res = [data for data in sp1 if (data != '') ]\n",
    "    return res"
   ]
  },
  {
   "cell_type": "code",
   "execution_count": 3,
   "metadata": {},
   "outputs": [],
   "source": [
    "data=pd.read_csv('data.tsv',sep='\\t')\n",
    "dataQ=data.Question\n",
    "dataA=data.Answer\n",
    "Q,A=[],[]\n",
    "\n",
    "Q2W=[]# liste de mots pour chaque phrase \n",
    "A2W=[]\n",
    "\n",
    "for each in dataQ: \n",
    "    q = each.lower()\n",
    "    Q.append(q)\n",
    "    each_list = sep_ponct(q)\n",
    "    remisEsp = ' '.join(each_list)\n",
    "    Q2W.append(remisEsp.split(\" \"))\n",
    "        \n",
    "for each in dataA:\n",
    "    a = each.lower()\n",
    "    A.append(a)\n",
    "    each_list = sep_ponct(a)\n",
    "    remisEsp = ' '.join(each_list)\n",
    "    A2W.append(remisEsp.split(\" \"))"
   ]
  },
  {
   "cell_type": "code",
   "execution_count": 4,
   "metadata": {},
   "outputs": [
    {
     "data": {
      "text/html": [
       "<div>\n",
       "<style scoped>\n",
       "    .dataframe tbody tr th:only-of-type {\n",
       "        vertical-align: middle;\n",
       "    }\n",
       "\n",
       "    .dataframe tbody tr th {\n",
       "        vertical-align: top;\n",
       "    }\n",
       "\n",
       "    .dataframe thead th {\n",
       "        text-align: right;\n",
       "    }\n",
       "</style>\n",
       "<table border=\"1\" class=\"dataframe\">\n",
       "  <thead>\n",
       "    <tr style=\"text-align: right;\">\n",
       "      <th></th>\n",
       "      <th>Question</th>\n",
       "      <th>Answer</th>\n",
       "    </tr>\n",
       "  </thead>\n",
       "  <tbody>\n",
       "    <tr>\n",
       "      <th>count</th>\n",
       "      <td>11746</td>\n",
       "      <td>11746</td>\n",
       "    </tr>\n",
       "    <tr>\n",
       "      <th>unique</th>\n",
       "      <td>11247</td>\n",
       "      <td>1977</td>\n",
       "    </tr>\n",
       "    <tr>\n",
       "      <th>top</th>\n",
       "      <td>Tell me a joke</td>\n",
       "      <td>It's nice to have things you love.</td>\n",
       "    </tr>\n",
       "    <tr>\n",
       "      <th>freq</th>\n",
       "      <td>46</td>\n",
       "      <td>299</td>\n",
       "    </tr>\n",
       "  </tbody>\n",
       "</table>\n",
       "</div>"
      ],
      "text/plain": [
       "              Question                              Answer\n",
       "count            11746                               11746\n",
       "unique           11247                                1977\n",
       "top     Tell me a joke  It's nice to have things you love.\n",
       "freq                46                                 299"
      ]
     },
     "execution_count": 4,
     "metadata": {},
     "output_type": "execute_result"
    }
   ],
   "source": [
    "data.describe()"
   ]
  },
  {
   "cell_type": "markdown",
   "metadata": {},
   "source": [
    "### repartition des donnees"
   ]
  },
  {
   "cell_type": "code",
   "execution_count": 5,
   "metadata": {},
   "outputs": [
    {
     "name": "stdout",
     "output_type": "stream",
     "text": [
      "test size =  2349 ,  data size =  11746\n",
      "(2349,)    (9397,)\n"
     ]
    }
   ],
   "source": [
    "#ratio_train = 0.8\n",
    "ratio_test = 0.2\n",
    "\n",
    "Nv = len(Q)\n",
    "Nt = int(Nv*ratio_test)\n",
    "Ntrain =  Nv- Nt\n",
    "print(\"test size = \", Nt, \",  data size = \", Nv)\n",
    "\n",
    "X_test = dataQ[-Nt:].copy()\n",
    "X_train = dataQ[0:Ntrain].copy()\n",
    "\n",
    "print(X_test.shape, \"  \", X_train.shape)"
   ]
  },
  {
   "cell_type": "code",
   "execution_count": 6,
   "metadata": {
    "scrolled": true
   },
   "outputs": [],
   "source": [
    "import gensim, logging"
   ]
  },
  {
   "cell_type": "code",
   "execution_count": 7,
   "metadata": {},
   "outputs": [],
   "source": [
    "window_size=2\n",
    "#N = Ntrain\n",
    "vector_size=3\n",
    "tout=Q2W[0:Ntrain]+A2W[0:Ntrain]  #+ list(string.ascii_lowercase)\n",
    "model=gensim.models.Word2Vec(tout,vector_size=vector_size, window=2, min_count=1, workers=4)"
   ]
  },
  {
   "cell_type": "code",
   "execution_count": 8,
   "metadata": {},
   "outputs": [],
   "source": [
    "from spellchecker import SpellChecker"
   ]
  },
  {
   "cell_type": "code",
   "execution_count": 9,
   "metadata": {},
   "outputs": [],
   "source": [
    "def UpdateMatrice():\n",
    "    V=[]\n",
    "    for i in range (Ntrain):\n",
    "        s=np.zeros(vector_size)\n",
    "        for j in range(len(Q2W[i])):\n",
    "            motInconnu(Q2W[i][j])\n",
    "            wv=np.array(model.wv.get_vector(Q2W[i][j]))\n",
    "            s+=wv\n",
    "        V.append(list(s))\n",
    "    return V"
   ]
  },
  {
   "cell_type": "code",
   "execution_count": 10,
   "metadata": {},
   "outputs": [],
   "source": [
    "def addW2modele(mot):\n",
    "    model.build_vocab([[str(mot)]], update=True)\n",
    "    UpdateMatrice() "
   ]
  },
  {
   "cell_type": "code",
   "execution_count": 11,
   "metadata": {
    "scrolled": true
   },
   "outputs": [
    {
     "data": {
      "text/plain": [
       "(\"I don't know this word\", False)"
      ]
     },
     "execution_count": 11,
     "metadata": {},
     "output_type": "execute_result"
    }
   ],
   "source": [
    "def motInconnu(mot):\n",
    "    try:\n",
    "        model.wv.get_vector(mot.lower())   \n",
    "    except:\n",
    "        spell = SpellChecker()\n",
    "        d = enchant.Dict(\"en_US\")\n",
    "        mot=str(mot)\n",
    "        if d.check(spell.correction(mot)):\n",
    "            if mot == spell.correction(mot):\n",
    "                addW2modele(mot)\n",
    "            else:\n",
    "                print(\"We can't understand this word \",mot,\". Do you want to say this word \",'\\'',spell.correction(mot),'\\'')\n",
    "                print(\"Please enter the correct word ! \")\n",
    "                x = str(input())\n",
    "                return x,False\n",
    "        else :\n",
    "            return \"I don't know this word\",False\n",
    "    return mot,True\n",
    "\n",
    "motInconnu(\"vjyshkpf\")"
   ]
  },
  {
   "cell_type": "code",
   "execution_count": 12,
   "metadata": {},
   "outputs": [
    {
     "data": {
      "text/plain": [
       "<matplotlib.legend.Legend at 0x7f38bcbd5470>"
      ]
     },
     "execution_count": 12,
     "metadata": {},
     "output_type": "execute_result"
    },
    {
     "data": {
      "image/png": "[encoded data removed]",
      "text/plain": [
       "<Figure size 720x504 with 1 Axes>"
      ]
     },
     "metadata": {
      "needs_background": "light"
     },
     "output_type": "display_data"
    }
   ],
   "source": [
    "from mpl_toolkits import mplot3d\n",
    "import numpy as np\n",
    "import matplotlib.pyplot as plt\n",
    "V=[]\n",
    "for i in range (Ntrain):\n",
    "    s=np.zeros(vector_size)\n",
    "    for j in range(len(Q2W[i])):\n",
    "        motInconnu(Q2W[i][j])\n",
    "        wv=np.array(model.wv.get_vector(Q2W[i][j]))\n",
    "        s+=wv\n",
    "    V.append(list(s))\n",
    "fig = plt.figure(figsize = (10, 7))\n",
    "ax = plt.axes(projection =\"3d\")\n",
    "for i in range(10):\n",
    "    ax.scatter3D(V[i][0],V[i][1],V[i][2],label=Q2W[i])\n",
    "plt.legend()\n"
   ]
  },
  {
   "cell_type": "code",
   "execution_count": 13,
   "metadata": {},
   "outputs": [],
   "source": [
    "def motInconnuKmeans(mot):\n",
    "    try:\n",
    "        model.wv.get_vector(mot.lower())   \n",
    "    except:\n",
    "        spell = SpellChecker()\n",
    "        d=enchant.Dict(\"en_US\")\n",
    "        mot=str(mot)\n",
    "        if d.check(spell.correction(mot)): \n",
    "            if mot==spell.correction(mot):\n",
    "                return \"I can't understand\",False\n",
    "            else:\n",
    "                print(\"We can't understand this word \",mot,\". Do you want to say this word \",'\\'',spell.correction(mot),'\\'')\n",
    "                print(\"Please enter the correct word ! \")\n",
    "                x = str(input())\n",
    "                return x,False\n",
    "        else:\n",
    "            return \"I don't know this word\",False\n",
    "    return mot,True\n"
   ]
  },
  {
   "cell_type": "code",
   "execution_count": 14,
   "metadata": {},
   "outputs": [],
   "source": [
    "class Kmoyennes:\n",
    "\n",
    "    def __init__(self,K, IterationMax=20):\n",
    "        self.K=K\n",
    "        self.N=0\n",
    "        self.D=0\n",
    "        self.IterationMax = IterationMax\n",
    "        self.affectations = np.zeros((self.N))\n",
    "        self.representants = np.zeros((self.K,self.D))\n",
    "\n",
    "    def fit(self,X):\n",
    "        self.N = X.shape[0]\n",
    "        self.D = X.shape[1]\n",
    "        representants_initiaux = np.random.random((self.K,self.D))\n",
    "        representants = representants_initiaux       \n",
    "        for iterations in range(self.IterationMax):\n",
    "            affectations = self.maj_affectations(X, representants)\n",
    "            representants = self.maj_representants(X, affectations)\n",
    "        self.representants = representants\n",
    "        self.affectations = affectations\n",
    "        return self.representants\n",
    "        \n",
    "    def dist(self,x1,x2):\n",
    "           return np.sum((x1-x2)**2)**0.5\n",
    "        \n",
    "    def maj_affectations(self, X, r):\n",
    "        a = np.zeros((self.N))\n",
    "        for n in range(self.N):\n",
    "            distances = np.zeros(self.K)\n",
    "            for k in range(self.K):\n",
    "                distances[k] = distance.cosine(X[n], r[k])#self.dist(X[n], r[k])\n",
    "            a[n] = np.argmin(distances, axis=0)\n",
    "        return a\n",
    "\n",
    "    def barycentre(self,X):\n",
    "        Nselection = X.shape[0]\n",
    "        if Nselection != 0:\n",
    "            resultat = X.sum(axis=0)/Nselection\n",
    "        else:\n",
    "            resultat = X.sum(axis=0)*0.0\n",
    "        return resultat\n",
    "    \n",
    "    def maj_representants(self, X, a):       \n",
    "        r = np.zeros((self.K,self.D))\n",
    "        for k in range(self.K):\n",
    "            masque = (a==k) ## cette condition booléenne permet d'obtenir un masque \n",
    "            r[k] = self.barycentre(X[masque])\n",
    "        return r"
   ]
  },
  {
   "cell_type": "code",
   "execution_count": 15,
   "metadata": {},
   "outputs": [],
   "source": [
    "def classifier(X,K,model = Kmoyennes, iterMax=10 ):\n",
    "    Km = model(K=K, IterationMax=iterMax)\n",
    "    Km.fit(X=X)\n",
    "    affectations = Km.affectations\n",
    "    representants = Km.representants\n",
    "    return affectations, representants"
   ]
  },
  {
   "cell_type": "code",
   "execution_count": 16,
   "metadata": {},
   "outputs": [
    {
     "name": "stderr",
     "output_type": "stream",
     "text": [
      "/usr/local/lib/python3.6/dist-packages/scipy/spatial/distance.py:720: RuntimeWarning: invalid value encountered in double_scalars\n",
      "  dist = 1.0 - uv / np.sqrt(uu * vv)\n"
     ]
    },
    {
     "name": "stdout",
     "output_type": "stream",
     "text": [
      "upadate the affectations and representants \n",
      "upadate the affectations and representants \n",
      "upadate the affectations and representants \n",
      "True\n"
     ]
    }
   ],
   "source": [
    "X = np.array(V)\n",
    "K = 10\n",
    "affectations,representants = classifier(X, K = K)\n",
    "flag = True\n",
    "#print(affectations,representants)\n",
    "def valide_affectations():\n",
    "    for i in range (K):\n",
    "        g0 = affectations==i\n",
    "        if X[g0].shape[0]==0:\n",
    "            return False\n",
    "        else:\n",
    "            continue\n",
    "    return True    \n",
    "           \n",
    "    \n",
    "while (flag):\n",
    "    if valide_affectations():\n",
    "        break\n",
    "        \n",
    "    else: \n",
    "        affectations,representants = classifier(X, K = K)\n",
    "        print(\"upadate the affectations and representants \")\n",
    "        \n",
    "print(valide_affectations())        "
   ]
  },
  {
   "cell_type": "code",
   "execution_count": 17,
   "metadata": {},
   "outputs": [
    {
     "data": {
      "text/plain": [
       "<matplotlib.legend.Legend at 0x7f38bc3a9198>"
      ]
     },
     "execution_count": 17,
     "metadata": {},
     "output_type": "execute_result"
    },
    {
     "data": {
      "image/png": "[encoded data removed]",
      "text/plain": [
       "<Figure size 720x504 with 1 Axes>"
      ]
     },
     "metadata": {
      "needs_background": "light"
     },
     "output_type": "display_data"
    }
   ],
   "source": [
    "#print(affectations,representants)\n",
    "fig = plt.figure(figsize = (10, 7))\n",
    "ax = plt.axes(projection =\"3d\")\n",
    "G=[]\n",
    "for k in range(K):\n",
    "    g0 = affectations==k\n",
    "    G.append(X[g0])\n",
    "    ax.scatter3D(X[g0,0],X[g0,1],X[g0,2],label=Q2W[k])\n",
    "plt.legend()\n"
   ]
  },
  {
   "cell_type": "code",
   "execution_count": 18,
   "metadata": {},
   "outputs": [],
   "source": [
    "def nearestVector(vector,groupe):\n",
    "    #print(\"i am in nearestVector \" )\n",
    "    minimum=distance.cosine(groupe[0],vector)\n",
    "    index=0\n",
    "    for i in range(len(vector)):\n",
    "        vector[i]=float(vector[i])\n",
    "    for i in range(len(groupe)):\n",
    "        #print(distance.cosine(groupe[i],vector))\n",
    "        dist = distance.cosine(groupe[i],vector)\n",
    "        if (dist < minimum):\n",
    "            minumum = dist\n",
    "            index=i\n",
    "    #print(\"nearestVector \",minimum)\n",
    "    return index              "
   ]
  },
  {
   "cell_type": "code",
   "execution_count": 19,
   "metadata": {},
   "outputs": [],
   "source": [
    "def NeighborVector(seuil,vector,groupe,nbN):\n",
    "    neighbor={}\n",
    "    index=[]\n",
    "    nb=0\n",
    "    for i in range(len(groupe)):\n",
    "        d=distance.cosine(groupe[i],vector)\n",
    "        if (d<seuil):\n",
    "            neighbor[d]=i\n",
    "    for i in sorted(neighbor):\n",
    "        if(nb==nbN):\n",
    "            return index\n",
    "        nb+=1\n",
    "        index.append(neighbor[i])\n",
    "    return index\n",
    "        "
   ]
  },
  {
   "cell_type": "code",
   "execution_count": 20,
   "metadata": {},
   "outputs": [],
   "source": [
    "def find_closest_words_from_vector(vector,groupe):\n",
    "    \"\"\"Pour un vecteur donné, trouve les K plus proches voisins sémantiques\"\"\"\n",
    "    closest_words = []\n",
    "    normed_embeddings = groupe/(np.linalg.norm(groupe, axis=1)).reshape(-1, 1)\n",
    "    normed_vect = vector/np.linalg.norm(vector)\n",
    "    \n",
    "    cosine_similarities = np.dot(normed_vect, normed_embeddings.T)\n",
    "    sorted_indexes = cosine_similarities.argsort() # matrice trié du plus petit au plus grand \n",
    "    neighboor_index=sorted_indexes[-1]\n",
    "    #print(\"find_closest_words_from_vector \", cosine_similarities[neighboor_index]  )\n",
    "    return  neighboor_index"
   ]
  },
  {
   "cell_type": "code",
   "execution_count": 21,
   "metadata": {},
   "outputs": [],
   "source": [
    "def getQVsomme(tab):\n",
    "    s=np.zeros(vector_size)\n",
    "    for each in tab:      \n",
    "        wv=np.array(model.wv.get_vector(each))\n",
    "        s+=wv\n",
    "    return list(s)"
   ]
  },
  {
   "cell_type": "markdown",
   "metadata": {},
   "source": [
    "#### Evaluation"
   ]
  },
  {
   "cell_type": "code",
   "execution_count": 22,
   "metadata": {},
   "outputs": [
    {
     "name": "stdout",
     "output_type": "stream",
     "text": [
      "there is  136  questions in both X_test and X_train \n",
      "\n",
      "(2213, 2)\n",
      "[0\n",
      " \"They're all math books,and according to the system, you still have them.\"]\n"
     ]
    },
    {
     "data": {
      "text/plain": [
       "array([0, 2, 3, ..., 2346, 2347, 2348], dtype=object)"
      ]
     },
     "execution_count": 22,
     "metadata": {},
     "output_type": "execute_result"
    }
   ],
   "source": [
    "#Combien de questions sont déjà parmi les train ?\n",
    "testC = np.array([[i,q] for i,q in enumerate(X_test) if q not in X_train.values], dtype = object)\n",
    "nbI = Nt - testC.shape[0]\n",
    "print(\"there is \", nbI, \" questions in both X_test and X_train \\n\") \n",
    "print(testC.shape)\n",
    "print(testC[0])\n",
    "testC[:,0]"
   ]
  },
  {
   "cell_type": "code",
   "execution_count": 23,
   "metadata": {},
   "outputs": [],
   "source": [
    "import random\n",
    "import datetime\n",
    "\n",
    "nbSamp = 10\n",
    "#choisir aleatoirement 100 questions qui ne sont pas dans X_train mais dans X_test\n",
    "sampIdx = random.sample(list(testC[:,0]), k = nbSamp)\n",
    "#print(len(set(sampIdx)), '==', nbSamp)\n",
    "#print(dataQ[np.array(sampIdx)+X_train.shape[0]])\n",
    "\n",
    "def get_samples(testSet, dataQ, Ntrain, nbSample = 100):\n",
    "    #testSet array avec premier colonne = indice, deuxieme colone = valeur\n",
    "    sampIdx = random.sample(list(testC[:,0]), k = nbSample)\n",
    "    print(len(set(sampIdx)), '==', nbSample)\n",
    "    return dataQ[np.array(sampIdx)+ Ntrain]"
   ]
  },
  {
   "cell_type": "code",
   "execution_count": 24,
   "metadata": {},
   "outputs": [
    {
     "name": "stdout",
     "output_type": "stream",
     "text": [
      "100 == 100\n",
      "100 == 100\n"
     ]
    },
    {
     "data": {
      "text/plain": [
       "10061                           I love cooking\n",
       "11525             I'm going to take pills soon\n",
       "11326                           I'm a gangster\n",
       "9620               Are you friends with Alexa?\n",
       "10171            I am watching a baseball game\n",
       "11648                               What else?\n",
       "9856                     I'm about to sign off\n",
       "9699                     I hate feeling gloomy\n",
       "9725      Between you and me who looks better?\n",
       "11490    Where do you want the money to go to?\n",
       "Name: Question, dtype: object"
      ]
     },
     "execution_count": 24,
     "metadata": {},
     "output_type": "execute_result"
    }
   ],
   "source": [
    "samples0 = get_samples(testC, dataQ, Ntrain)\n",
    "samples1 = get_samples(testC, dataQ, Ntrain)\n",
    "samples0.iloc[range(10)]"
   ]
  },
  {
   "cell_type": "markdown",
   "metadata": {},
   "source": [
    "On fait l'évaluation sur les échantillons extrait de testC. On écrit la fonction chatbot_score et chatbotSansClass_score en reprenant des codes de chatbot2methode.\n",
    "\n",
    "On ne reprend pas la partie memoire car il n'y a pas de répétition dans notre échantillon et les répétitions des questions serait évaluées des autres façons."
   ]
  },
  {
   "cell_type": "code",
   "execution_count": 25,
   "metadata": {},
   "outputs": [],
   "source": [
    "def chatbot_score(samples, funNearest = nearestVector,tsvFile = \"QA2score.tsv\", seuil=0.06):\n",
    "    #type(samples)== pandas.dataframe\n",
    "    \n",
    "    start = datetime.datetime.now()\n",
    "    nonAnswer = 0\n",
    "    with open(tsvFile,'w+',encoding=\"utf8\")as t:\n",
    "        t.write('question in samples \\t answer in X_test \\t answer of chatbot \\n')\n",
    "        for idx, each in enumerate(samples):\n",
    "            ans = dataA[samples.index[idx]]\n",
    "            t.write(each + '\\t'+ ans + '\\t')\n",
    "            \n",
    "            Q= each.lower()\n",
    "            q = sep_ponct(Q)\n",
    "            tab = ' '.join(q).split()\n",
    "            \n",
    "            #print(tab)\n",
    "            if(len(tab)==0):\n",
    "                peint(\"sample error: do not give me only some whitespace please!\")\n",
    "                return\n",
    "            \n",
    "            understand = True\n",
    "            for i in range(len(tab)):\n",
    "                keep = tab[i]\n",
    "                tab[i],b=motInconnuKmeans(keep)\n",
    "                if tab[i] in [\"I can't understand\",\"I don't know this word\"]:\n",
    "                    t.write(\"can't understand-------------------- \\n\")\n",
    "                    print(\"score : can't understand \", keep)\n",
    "                    understand = False\n",
    "                    break\n",
    "                while(not b):\n",
    "                    #print(\"hhhhh----------\",understand)\n",
    "                    tab[i],b=motInconnuKmeans(tab[i])\n",
    "            #print(\"hhhhhhhh \", idx, \"\\n\")\n",
    "            if(understand):  \n",
    "                QV=getQVsomme(tab)\n",
    "        \n",
    "                if each in X_train.values:\n",
    "                    print(\"sample error: give me some questions out of X_train for test please!\")\n",
    "                    print(QV, each,\" \\n current nonAnswer = \",nonAnswer )\n",
    "                    print(each in testC[:,1])\n",
    "                    return\n",
    "        \n",
    "                nearestRepresentants= funNearest(QV,representants) #fct passee en argument\n",
    "                g0 = affectations==nearestRepresentants\n",
    "                nearestIndexCloture= funNearest(QV,X[g0])\n",
    "            \n",
    "                if(distance.cosine(list(X[g0][nearestIndexCloture]),QV)>seuil):\n",
    "                    nonAnswer +=1\n",
    "                    t.write('non Answer-------------------- \\n')\n",
    "                else:\n",
    "                    nearestIndex=V.index(list(X[g0][nearestIndexCloture]))\n",
    "                    t.write( dataA[nearestIndex]+ '\\n')\n",
    "    end = datetime.datetime.now()\n",
    "    time = end-start\n",
    "    print (\"run time:\", time)\n",
    "    return nonAnswer,time"
   ]
  },
  {
   "cell_type": "code",
   "execution_count": 26,
   "metadata": {},
   "outputs": [],
   "source": [
    "res = []"
   ]
  },
  {
   "cell_type": "code",
   "execution_count": 27,
   "metadata": {},
   "outputs": [
    {
     "name": "stdout",
     "output_type": "stream",
     "text": [
      "score : can't understand  gangster\n",
      "score : can't understand  golfing\n",
      "score : can't understand  kite\n",
      "score : can't understand  identical\n",
      "score : can't understand  somewhere\n",
      "run time: 0:00:06.610526\n",
      "score : can't understand  gangster\n",
      "score : can't understand  golfing\n",
      "score : can't understand  kite\n",
      "score : can't understand  identical\n",
      "score : can't understand  somewhere\n",
      "run time: 0:00:06.496227\n"
     ]
    },
    {
     "data": {
      "text/plain": [
       "(11, 6)"
      ]
     },
     "execution_count": 27,
     "metadata": {},
     "output_type": "execute_result"
    }
   ],
   "source": [
    "#chabot avec classification\n",
    "noAnswer,t0 = chatbot_score(samples0)\n",
    "no2,t1 = chatbot_score(samples0, seuil = 0.08, tsvFile = \"qa2.tsv\")\n",
    "res.append(['kmeans',noAnswer,t0])\n",
    "noAnswer, no2"
   ]
  },
  {
   "cell_type": "code",
   "execution_count": 28,
   "metadata": {},
   "outputs": [
    {
     "name": "stdout",
     "output_type": "stream",
     "text": [
      "score : can't understand  gangster\n",
      "score : can't understand  golfing\n",
      "score : can't understand  kite\n",
      "score : can't understand  identical\n",
      "score : can't understand  somewhere\n",
      "run time: 0:00:00.744945\n",
      "score : can't understand  gangster\n",
      "score : can't understand  golfing\n",
      "score : can't understand  kite\n",
      "score : can't understand  identical\n",
      "score : can't understand  somewhere\n",
      "run time: 0:00:00.769625\n"
     ]
    },
    {
     "data": {
      "text/plain": [
       "(0, 0)"
      ]
     },
     "execution_count": 28,
     "metadata": {},
     "output_type": "execute_result"
    }
   ],
   "source": [
    "#chatbot qui calcul la cosinus distance par la facon de tp11 et avec classification \n",
    "noAnswer11, t0 = chatbot_score(samples0, funNearest = find_closest_words_from_vector,tsvFile = \"QA2scoretd11.tsv\")\n",
    "no211,t1 = chatbot_score(samples0, funNearest = find_closest_words_from_vector, seuil = 0.02, tsvFile = \"qa2td11.tsv\")\n",
    "res.append(['kmeans+td11',noAnswer11, t0])\n",
    "noAnswer11,no211"
   ]
  },
  {
   "cell_type": "markdown",
   "metadata": {},
   "source": [
    "#0.07307243670603059: distance what's your name vs answer \n",
    "#0.06816835295193202: distance red vs orange"
   ]
  },
  {
   "cell_type": "code",
   "execution_count": 29,
   "metadata": {},
   "outputs": [],
   "source": [
    "def chatbotSansClass_score(samples,funInconnu = motInconnu,funNearest = nearestVector,tsvFile = \"QA2score_sansClass.tsv\", seuil=0.06):\n",
    "    start = datetime.datetime.now()\n",
    "    \n",
    "    nonAnswer = 0\n",
    "    with open(tsvFile,'w+',encoding=\"utf8\")as t:\n",
    "        t.write('question in samples \\t answer in X_test \\t answer of chatbot \\n')\n",
    "        for idx, each in enumerate(samples):\n",
    "            ans = dataA[samples.index[idx]]\n",
    "            t.write(each + '\\t'+ ans + '\\t')\n",
    "            \n",
    "            Q= each.lower()\n",
    "            q = sep_ponct(Q)\n",
    "            tab = ' '.join(q).split()\n",
    "                             \n",
    "            if(len(tab)==0):\n",
    "                peint(\"sample error: do not give me only some whitespace please!\")\n",
    "                return\n",
    "            \n",
    "            understand = True\n",
    "            for i in range(len(tab)):\n",
    "                keep = tab[i]\n",
    "                tab[i],b=motInconnu(tab[i])\n",
    "                if tab[i]==\"I don't know this word\":\n",
    "                    print(idx, '     ',tab[i])\n",
    "                    t.write(\"can't understand-------------------- \\n\")\n",
    "                    print(\"can't understand \", keep)\n",
    "                    understand = False\n",
    "                    break    \n",
    "                while(b==False):\n",
    "                    tab[i],b=motInconnu(tab[i])         \n",
    "            if(understand):\n",
    "                QV=getQVsomme(tab)\n",
    "        \n",
    "                if each in X_train.values:\n",
    "                    print(\"sample error: give me some questions out of X_train for test please!\")\n",
    "                    print(QV, each,\" \\n current nonAnswer = \",nonAnswer )\n",
    "                    print(each in testC)\n",
    "                    return\n",
    "            \n",
    "                nearestIndex= funNearest(QV,V)\n",
    "            \n",
    "                if(distance.cosine(V[nearestIndex],QV)>seuil):\n",
    "                    nonAnswer +=1\n",
    "                    t.write('non Answer-------------------- \\n')\n",
    "                else:\n",
    "                    #print('\\n',dataA[nearestIndex], distance.cosine(V[nearestIndex],QV),'\\n')\n",
    "                    t.write( dataA[nearestIndex]+ '\\n')\n",
    "    end = datetime.datetime.now()\n",
    "    time = end-start\n",
    "    print (\"run time:\", time)    \n",
    "    return nonAnswer,time"
   ]
  },
  {
   "cell_type": "code",
   "execution_count": 30,
   "metadata": {},
   "outputs": [
    {
     "name": "stdout",
     "output_type": "stream",
     "text": [
      "run time: 0:00:32.639259\n",
      "We can't understand this word  b . Do you want to say this word  ' i '\n",
      "Please enter the correct word ! \n",
      "i\n",
      "We can't understand this word  xfind . Do you want to say this word  ' find '\n",
      "Please enter the correct word ! \n",
      "find\n",
      "run time: 0:02:51.529467\n",
      "19 16\n"
     ]
    }
   ],
   "source": [
    "noAnswer0,t0 = chatbotSansClass_score(samples0)\n",
    "noA1,t1 = chatbotSansClass_score(samples1, tsvFile = \"qa2SansClass.tsv\")\n",
    "res.append(['sans classe motInconnu',noAnswer0,t0])\n",
    "print(noAnswer0,noA1)"
   ]
  },
  {
   "cell_type": "code",
   "execution_count": 31,
   "metadata": {},
   "outputs": [
    {
     "name": "stdout",
     "output_type": "stream",
     "text": [
      "run time: 0:00:30.767644\n",
      "We can't understand this word  b . Do you want to say this word  ' i '\n",
      "Please enter the correct word ! \n",
      "i\n",
      "We can't understand this word  xfind . Do you want to say this word  ' find '\n",
      "Please enter the correct word ! \n",
      "find\n",
      "run time: 0:00:39.283650\n"
     ]
    },
    {
     "data": {
      "text/plain": [
       "(19, 16)"
      ]
     },
     "execution_count": 31,
     "metadata": {},
     "output_type": "execute_result"
    }
   ],
   "source": [
    "#chatbot sans classification avec la fct motInconnuKmeans qui ne met a jour pas le modele\n",
    "noAnswerK,t0 = chatbotSansClass_score(samples0, funInconnu = motInconnuKmeans,  tsvFile = \"QA2score_sansClass_km.tsv\" )\n",
    "noAK1,t1 = chatbotSansClass_score(samples1, funInconnu = motInconnuKmeans, tsvFile = \"qa2SansClass_km.tsv\")\n",
    "res.append(['sans classe motInconnukm',noAnswerK,t0])\n",
    "noAnswerK,noAK1"
   ]
  },
  {
   "cell_type": "code",
   "execution_count": 32,
   "metadata": {},
   "outputs": [
    {
     "name": "stdout",
     "output_type": "stream",
     "text": [
      "run time: 0:00:04.856849\n",
      "We can't understand this word  b . Do you want to say this word  ' i '\n",
      "Please enter the correct word ! \n",
      "i\n",
      "We can't understand this word  xfind . Do you want to say this word  ' find '\n",
      "Please enter the correct word ! \n",
      "find\n",
      "run time: 0:00:36.491041\n"
     ]
    },
    {
     "data": {
      "text/plain": [
       "(0, 0)"
      ]
     },
     "execution_count": 32,
     "metadata": {},
     "output_type": "execute_result"
    }
   ],
   "source": [
    "#chatbot sans classification avec la fonction qui calcul la cosinus distance comme tp11\n",
    "noAnswer011,t0 = chatbotSansClass_score(samples0, funNearest = find_closest_words_from_vector,tsvFile = \"QA2score_sansClass_11.tsv\")\n",
    "noA111,t1 = chatbotSansClass_score(samples1, funNearest = find_closest_words_from_vector, tsvFile = \"qa2SansClass11.tsv\")\n",
    "res.append(['sans classe+td11',noAnswer011,t0])\n",
    "noAnswer011,noA111"
   ]
  },
  {
   "cell_type": "code",
   "execution_count": 33,
   "metadata": {},
   "outputs": [
    {
     "data": {
      "text/plain": [
       "[['kmeans', 11, datetime.timedelta(0, 6, 610526)],\n",
       " ['kmeans+td11', 0, datetime.timedelta(0, 0, 744945)],\n",
       " ['sans classe motInconnu', 19, datetime.timedelta(0, 32, 639259)],\n",
       " ['sans classe motInconnukm', 19, datetime.timedelta(0, 30, 767644)],\n",
       " ['sans classe+td11', 0, datetime.timedelta(0, 4, 856849)]]"
      ]
     },
     "execution_count": 33,
     "metadata": {},
     "output_type": "execute_result"
    }
   ],
   "source": [
    "res"
   ]
  },
  {
   "cell_type": "code",
   "execution_count": null,
   "metadata": {},
   "outputs": [],
   "source": [
    "resG = np.array(res)\n",
    "peint(resG.shape())\n",
    "\n"
   ]
  },
  {
   "cell_type": "markdown",
   "metadata": {},
   "source": [
    "Les résultats des nombre sans réponse dépendent de samples extraits surtout dans un dataset où il y a un espace de densité faible.\n",
    "Mais en général on a :\n",
    "- modèle avec k-moyenne et cosinus distance: avoir souvent moins de questions sans réponse. (Si c'est produit scalaire, quelques fois il y a peu de question sans réponse, l'autres fois il y a bcp de question sans réponse)\n",
    "\n",
    "- modèle normale qui parcourt tout modèle pour trouver le vecteur le plus proche a souvent plus (plus de 2 fois que celui avec k-moyen) de question sans réponse\n",
    "\n",
    "- modèle normale qui mets à jours le modèle chaque fois lorsqu'il rencontre un mot inconnue a le même nbr de question sans réponse."
   ]
  },
  {
   "cell_type": "markdown",
   "metadata": {},
   "source": [
    "#### test"
   ]
  },
  {
   "cell_type": "markdown",
   "metadata": {},
   "source": [
    "- le chatbot reconnait \"how was your day?\" et \"how was your day\"  mais not \"how was your day??\" \n",
    "\n",
    "   ---- supprimer les ponctuation"
   ]
  },
  {
   "cell_type": "code",
   "execution_count": 34,
   "metadata": {},
   "outputs": [],
   "source": [
    "#seuil=0.06\n",
    "def chatbot(question,memoire,funNearest = nearestVector,seuil = 0.06 ):\n",
    "    Dally=[\"Dallying me is not a gentleman's behavior !!! \",\"Let's change a topic!\",\"Stop play with my affection !!\"]\n",
    "    Q= question.lower()\n",
    "    q = sep_ponct(Q)\n",
    "    tab = ' '.join(q).split()\n",
    "    \n",
    "    #print(tab)\n",
    "    if(len(tab)==0):\n",
    "        return \"Are you kidding me?\",memoire  \n",
    "                             \n",
    "    for i in range(len(tab)):\n",
    "        tab[i],b=motInconnuKmeans(tab[i])\n",
    "        #print(\"iiiiiiiiiii \",tab[i])\n",
    "        if tab[i]==\"I can't understand\":\n",
    "            return \"I am sorry,I can't understand what did you ask\",memoire\n",
    "        if tab[i] == \"I don't know this word\":\n",
    "            return \"I don't know this word\", memoire\n",
    "        while(b==False):\n",
    "            tab[i],b=motInconnuKmeans(tab[i])\n",
    "    \n",
    "    QV=getQVsomme(tab) \n",
    "    #print(QV)\n",
    "    nearestRepresentanrs= funNearest(QV,representants) #fct passee en argument\n",
    "    g0 = affectations==nearestRepresentanrs\n",
    "    \n",
    "    if(memoire.count(QV)==5):\n",
    "        return \"Benben is tired! See you next time!! Bye!!!!!\",memoire\n",
    "    if(memoire.count(QV)>=3):\n",
    "        memoire.append(QV)\n",
    "        return random.choice(Dally),memoire\n",
    "    \n",
    "    if(memoire.count(QV)!=0):\n",
    "        neighbor=NeighborVector(0.03,QV,X[g0],3)\n",
    "        #print(neighbor)\n",
    "        memoire.append(QV)\n",
    "        return dataA[random.choice(neighbor)],memoire\n",
    "    memoire.append(QV)\n",
    "    \n",
    "    \n",
    "    for i in range(len(V)):\n",
    "        if QV==list(V[i]):\n",
    "            nearestIndex=V.index(QV)\n",
    "            #print(\"here in train, QV = \", QV)\n",
    "            return dataA[nearestIndex],memoire\n",
    "        \n",
    "\n",
    "    nearestIndexCloture=funNearest(QV,X[g0])  #fct passee en argument\n",
    "    nearestIndex=V.index(list(X[g0][nearestIndexCloture]))\n",
    "    \n",
    "   # print(nearestIndex,dataQ[nearestIndex],dataA[nearestIndex])\n",
    "    \n",
    "   #print(distance.cosine(list(X[g0][nearestIndexCloture]),QV))\n",
    "    if(distance.cosine(list(X[g0][nearestIndexCloture]),QV)>seuil):\n",
    "        return \"I am so sorry, I can't give an answer \", memoire\n",
    "    return dataA[nearestIndex] ,memoire"
   ]
  },
  {
   "cell_type": "code",
   "execution_count": 35,
   "metadata": {},
   "outputs": [],
   "source": [
    "#letsChat(chatbot)"
   ]
  },
  {
   "cell_type": "code",
   "execution_count": 36,
   "metadata": {},
   "outputs": [],
   "source": [
    "def chatbotSansClassification(question,memoire, funNearest = nearestVector, seuil = 0.06):\n",
    "    Dally=[\"Dallying me is not a gentleman's behavior !!! \",\"Let's change a topic!\",\"Stop play with my affection !!\"]\n",
    "    Q= question.lower()\n",
    "    q = sep_ponct(Q)\n",
    "    tab = ' '.join(q).split()\n",
    "    \n",
    "    if(len(tab)==0):\n",
    "        return \"Are you kidding me?\"  ,memoire                   \n",
    "    for i in range(len(tab)):\n",
    "        tab[i],b=motInconnu(tab[i])\n",
    "        if tab[i]==\"I don't know this word\":\n",
    "            return \"I don't know this word\",memoire\n",
    "        while(b==False):\n",
    "            tab[i],b=motInconnu(tab[i])\n",
    "    QV=getQVsomme(tab)\n",
    "    \n",
    "    if(memoire.count(QV)==5):\n",
    "        return \"Benben is tired! See you next time!! Bye!!!!!\",memoire\n",
    "    if(memoire.count(QV)>=3):\n",
    "        memoire.append(QV)\n",
    "        return random.choice(Dally),memoire\n",
    "    if(memoire.count(QV)!=0):\n",
    "        neighbor=NeighborVector(0.03,QV,V,3)\n",
    "        #print(neighbor)\n",
    "        memoire.append(QV)\n",
    "        if(len(neighbor)!=0):\n",
    "            return dataA[random.choice(neighbor)],memoire\n",
    "    memoire.append(QV)\n",
    "    \n",
    "    for i in range(len(V)):\n",
    "        if QV==list(V[i]):\n",
    "            nearestIndex=V.index(QV)\n",
    "            #print(\"here in train, QV = \", QV)\n",
    "            return dataA[nearestIndex],memoire\n",
    "        \n",
    "    nearestIndex = funNearest(QV,V) #fct passee en argument\n",
    "    \n",
    "    #print(nearestIndex,dataQ[nearestIndex],dataA[nearestIndex])\n",
    "    \n",
    "    if(distance.cosine(V[nearestIndex],QV)>seuil):\n",
    "        return \"I am so sorry, I can't give an answer \",memoire\n",
    "    return dataA[nearestIndex] ,memoire"
   ]
  },
  {
   "cell_type": "code",
   "execution_count": 37,
   "metadata": {},
   "outputs": [],
   "source": [
    "def letsChat(ModelChatbot, fctNearest = nearestVector):\n",
    "    goodBye = ['bye', 'goodbye','good bye', 'have a nice day','see you','good night']\n",
    "    memoire=[]\n",
    "    print(\"benben: \"+\"Ask me something! \")\n",
    "    chat = True\n",
    "    while(chat):\n",
    "        Q = str(input()) #entrer une phrase\n",
    "        if(Q.lower() in goodBye):\n",
    "            print(random.choice(goodBye))\n",
    "            return\n",
    "        \n",
    "        start = datetime.datetime.now() #start timing for each question\n",
    "        answer,memoire = ModelChatbot(Q,memoire,funNearest = fctNearest)\n",
    "        end = datetime.datetime.now() #end timing for each question\n",
    "        \n",
    "        if(answer in goodBye or answer==\"Are you kidding me?\" or answer==\"Benben is tired! See you next time!! Bye!!!!!\"):\n",
    "            print(\"benben: \",answer)  \n",
    "            return\n",
    "        print(\"benben: \",answer)\n",
    "        #print (\"run time:\", end-start)"
   ]
  },
  {
   "cell_type": "code",
   "execution_count": 38,
   "metadata": {},
   "outputs": [],
   "source": [
    "#chatbot sans classification2\n",
    "#chatbotSansClassification(question,memoire,funNearest = find_closest_words_from_vector)\n",
    "#chatbot3\n",
    "#chatbot(question,memoire,funNearest = find_closest_words_from_vector)"
   ]
  },
  {
   "cell_type": "code",
   "execution_count": 39,
   "metadata": {},
   "outputs": [
    {
     "name": "stdout",
     "output_type": "stream",
     "text": [
      "benben: Ask me something! \n",
      "hi\n",
      "benben:  Oh, hi\n",
      "good morning\n",
      "benben:  Good morning\n",
      "bye\n",
      "goodbye\n"
     ]
    }
   ],
   "source": [
    "letsChat(chatbot, fctNearest = find_closest_words_from_vector)"
   ]
  },
  {
   "cell_type": "code",
   "execution_count": 40,
   "metadata": {},
   "outputs": [],
   "source": [
    "#letsChat(chatbot)"
   ]
  },
  {
   "cell_type": "code",
   "execution_count": 41,
   "metadata": {},
   "outputs": [],
   "source": [
    "#letsChat(chatbotSansClassification, fctNearest = find_closest_words_from_vector)"
   ]
  },
  {
   "cell_type": "code",
   "execution_count": 42,
   "metadata": {},
   "outputs": [],
   "source": [
    "#letsChat(chatbotSansClassification)"
   ]
  },
  {
   "cell_type": "code",
   "execution_count": null,
   "metadata": {},
   "outputs": [],
   "source": []
  }
 ],
 "metadata": {
  "kernelspec": {
   "display_name": "Python 3",
   "language": "python",
   "name": "python3"
  },
  "language_info": {
   "codemirror_mode": {
    "name": "ipython",
    "version": 3
   },
   "file_extension": ".py",
   "mimetype": "text/x-python",
   "name": "python",
   "nbconvert_exporter": "python",
   "pygments_lexer": "ipython3",
   "version": "3.6.9"
  }
 },
 "nbformat": 4,
 "nbformat_minor": 2
}
